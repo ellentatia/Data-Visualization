{
 "cells": [
  {
   "cell_type": "code",
   "execution_count": 60,
   "metadata": {},
   "outputs": [
    {
     "name": "stdout",
     "output_type": "stream",
     "text": [
      "       country  year         pop continent  lifeExp   gdpPercap\n",
      "0  Afghanistan  1952   8425333.0      Asia   28.801  779.445314\n",
      "1  Afghanistan  1957   9240934.0      Asia   30.332  820.853030\n",
      "2  Afghanistan  1962  10267083.0      Asia   31.997  853.100710\n",
      "<class 'pandas.core.frame.DataFrame'>\n",
      "RangeIndex: 1704 entries, 0 to 1703\n",
      "Data columns (total 6 columns):\n",
      "country      1704 non-null object\n",
      "year         1704 non-null int64\n",
      "pop          1704 non-null float64\n",
      "continent    1704 non-null object\n",
      "lifeExp      1704 non-null float64\n",
      "gdpPercap    1704 non-null float64\n",
      "dtypes: float64(3), int64(1), object(2)\n",
      "memory usage: 80.0+ KB\n",
      "                       country  year           pop continent  lifeExp  \\\n",
      "11                 Afghanistan  2007  3.188992e+07      Asia   43.828   \n",
      "23                     Albania  2007  3.600523e+06    Europe   76.423   \n",
      "35                     Algeria  2007  3.333322e+07    Africa   72.301   \n",
      "47                      Angola  2007  1.242048e+07    Africa   42.731   \n",
      "59                   Argentina  2007  4.030193e+07  Americas   75.320   \n",
      "71                   Australia  2007  2.043418e+07   Oceania   81.235   \n",
      "83                     Austria  2007  8.199783e+06    Europe   79.829   \n",
      "95                     Bahrain  2007  7.085730e+05      Asia   75.635   \n",
      "107                 Bangladesh  2007  1.504483e+08      Asia   64.062   \n",
      "119                    Belgium  2007  1.039223e+07    Europe   79.441   \n",
      "131                      Benin  2007  8.078314e+06    Africa   56.728   \n",
      "143                    Bolivia  2007  9.119152e+06  Americas   65.554   \n",
      "155     Bosnia and Herzegovina  2007  4.552198e+06    Europe   74.852   \n",
      "167                   Botswana  2007  1.639131e+06    Africa   50.728   \n",
      "179                     Brazil  2007  1.900106e+08  Americas   72.390   \n",
      "191                   Bulgaria  2007  7.322858e+06    Europe   73.005   \n",
      "203               Burkina Faso  2007  1.432620e+07    Africa   52.295   \n",
      "215                    Burundi  2007  8.390505e+06    Africa   49.580   \n",
      "227                   Cambodia  2007  1.413186e+07      Asia   59.723   \n",
      "239                   Cameroon  2007  1.769629e+07    Africa   50.430   \n",
      "251                     Canada  2007  3.339014e+07  Americas   80.653   \n",
      "263   Central African Republic  2007  4.369038e+06    Africa   44.741   \n",
      "275                       Chad  2007  1.023881e+07    Africa   50.651   \n",
      "287                      Chile  2007  1.628474e+07  Americas   78.553   \n",
      "299                      China  2007  1.318683e+09      Asia   72.961   \n",
      "311                   Colombia  2007  4.422755e+07  Americas   72.889   \n",
      "323                    Comoros  2007  7.109600e+05    Africa   65.152   \n",
      "335            Congo Dem. Rep.  2007  6.460676e+07    Africa   46.462   \n",
      "347                 Congo Rep.  2007  3.800610e+06    Africa   55.322   \n",
      "359                 Costa Rica  2007  4.133884e+06  Americas   78.782   \n",
      "...                        ...   ...           ...       ...      ...   \n",
      "1355              Sierra Leone  2007  6.144562e+06    Africa   42.568   \n",
      "1367                 Singapore  2007  4.553009e+06      Asia   79.972   \n",
      "1379           Slovak Republic  2007  5.447502e+06    Europe   74.663   \n",
      "1391                  Slovenia  2007  2.009245e+06    Europe   77.926   \n",
      "1403                   Somalia  2007  9.118773e+06    Africa   48.159   \n",
      "1415              South Africa  2007  4.399783e+07    Africa   49.339   \n",
      "1427                     Spain  2007  4.044819e+07    Europe   80.941   \n",
      "1439                 Sri Lanka  2007  2.037824e+07      Asia   72.396   \n",
      "1451                     Sudan  2007  4.229293e+07    Africa   58.556   \n",
      "1463                 Swaziland  2007  1.133066e+06    Africa   39.613   \n",
      "1475                    Sweden  2007  9.031088e+06    Europe   80.884   \n",
      "1487               Switzerland  2007  7.554661e+06    Europe   81.701   \n",
      "1499                     Syria  2007  1.931475e+07      Asia   74.143   \n",
      "1511                    Taiwan  2007  2.317429e+07      Asia   78.400   \n",
      "1523                  Tanzania  2007  3.813964e+07    Africa   52.517   \n",
      "1535                  Thailand  2007  6.506815e+07      Asia   70.616   \n",
      "1547                      Togo  2007  5.701579e+06    Africa   58.420   \n",
      "1559       Trinidad and Tobago  2007  1.056608e+06  Americas   69.819   \n",
      "1571                   Tunisia  2007  1.027616e+07    Africa   73.923   \n",
      "1583                    Turkey  2007  7.115865e+07    Europe   71.777   \n",
      "1595                    Uganda  2007  2.917040e+07    Africa   51.542   \n",
      "1607            United Kingdom  2007  6.077624e+07    Europe   79.425   \n",
      "1619             United States  2007  3.011399e+08  Americas   78.242   \n",
      "1631                   Uruguay  2007  3.447496e+06  Americas   76.384   \n",
      "1643                 Venezuela  2007  2.608466e+07  Americas   73.747   \n",
      "1655                   Vietnam  2007  8.526236e+07      Asia   74.249   \n",
      "1667        West Bank and Gaza  2007  4.018332e+06      Asia   73.422   \n",
      "1679                Yemen Rep.  2007  2.221174e+07      Asia   62.698   \n",
      "1691                    Zambia  2007  1.174604e+07    Africa   42.384   \n",
      "1703                  Zimbabwe  2007  1.231114e+07    Africa   43.487   \n",
      "\n",
      "         gdpPercap  \n",
      "11      974.580338  \n",
      "23     5937.029526  \n",
      "35     6223.367465  \n",
      "47     4797.231267  \n",
      "59    12779.379640  \n",
      "71    34435.367440  \n",
      "83    36126.492700  \n",
      "95    29796.048340  \n",
      "107    1391.253792  \n",
      "119   33692.605080  \n",
      "131    1441.284873  \n",
      "143    3822.137084  \n",
      "155    7446.298803  \n",
      "167   12569.851770  \n",
      "179    9065.800825  \n",
      "191   10680.792820  \n",
      "203    1217.032994  \n",
      "215     430.070692  \n",
      "227    1713.778686  \n",
      "239    2042.095240  \n",
      "251   36319.235010  \n",
      "263     706.016537  \n",
      "275    1704.063724  \n",
      "287   13171.638850  \n",
      "299    4959.114854  \n",
      "311    7006.580419  \n",
      "323     986.147879  \n",
      "335     277.551859  \n",
      "347    3632.557798  \n",
      "359    9645.061420  \n",
      "...            ...  \n",
      "1355    862.540756  \n",
      "1367  47143.179640  \n",
      "1379  18678.314350  \n",
      "1391  25768.257590  \n",
      "1403    926.141068  \n",
      "1415   9269.657808  \n",
      "1427  28821.063700  \n",
      "1439   3970.095407  \n",
      "1451   2602.394995  \n",
      "1463   4513.480643  \n",
      "1475  33859.748350  \n",
      "1487  37506.419070  \n",
      "1499   4184.548089  \n",
      "1511  28718.276840  \n",
      "1523   1107.482182  \n",
      "1535   7458.396327  \n",
      "1547    882.969944  \n",
      "1559  18008.509240  \n",
      "1571   7092.923025  \n",
      "1583   8458.276384  \n",
      "1595   1056.380121  \n",
      "1607  33203.261280  \n",
      "1619  42951.653090  \n",
      "1631  10611.462990  \n",
      "1643  11415.805690  \n",
      "1655   2441.576404  \n",
      "1667   3025.349798  \n",
      "1679   2280.769906  \n",
      "1691   1271.211593  \n",
      "1703    469.709298  \n",
      "\n",
      "[142 rows x 6 columns]\n"
     ]
    }
   ],
   "source": [
    "import pandas as pd\n",
    "data_url='http://bit.ly/2cLzoxH'\n",
    "gapminder = pd.read_csv(data_url)\n",
    "print(gapminder.head(3))\n",
    "gapminder.info()\n",
    "gapminder_2007=gapminder[gapminder['year']==2007]\n",
    "print(gapminder_2007)\n",
    "#gapminder_2007.info()\n",
    "#print(gapminder_2007['Country'][gapminder_2007['Continent']==Oceania])\n",
    "#print(gapminder_2007[gapminder_2007['continent']=='Oceania'])\n"
   ]
  },
  {
   "cell_type": "code",
   "execution_count": 29,
   "metadata": {},
   "outputs": [
    {
     "data": {
      "image/png": "[encoded data removed]",
      "text/plain": [
       "<Figure size 432x288 with 1 Axes>"
      ]
     },
     "metadata": {},
     "output_type": "display_data"
    }
   ],
   "source": [
    "import matplotlib.pyplot as plt\n",
    "gapminder_2007.plot.scatter(x='gdpPercap', y='lifeExp', title='Life expectancy and GDP')\n",
    "plt.xscale('log')\n",
    "#plt.xlabel('GDP per capta in USD')\n",
    "#plt.ylabel('Life Expectancy in Years')\n",
    "#plt.title('World Development')\n",
    "tick_val = [1000, 10000, 100000]\n",
    "tick_lab = ['1k', '10k', '100k']\n",
    "plt.xticks(tick_val,tick_lab)\n",
    "plt.show()"
   ]
  },
  {
   "cell_type": "code",
   "execution_count": 30,
   "metadata": {},
   "outputs": [
    {
     "name": "stdout",
     "output_type": "stream",
     "text": [
      "11    31889923.0\n",
      "23     3600523.0\n",
      "35    33333216.0\n",
      "47    12420476.0\n",
      "59    40301927.0\n",
      "Name: pop, dtype: float64\n"
     ]
    }
   ],
   "source": [
    "print(gapminder_2007['pop'].head())\n"
   ]
  },
  {
   "cell_type": "code",
   "execution_count": 31,
   "metadata": {},
   "outputs": [
    {
     "name": "stdout",
     "output_type": "stream",
     "text": [
      "[3.18899230e+01 3.60052300e+00 3.33332160e+01 1.24204760e+01\n",
      " 4.03019270e+01 2.04341760e+01 8.19978300e+00 7.08573000e-01\n",
      " 1.50448339e+02 1.03922260e+01 8.07831400e+00 9.11915200e+00\n",
      " 4.55219800e+00 1.63913100e+00 1.90010647e+02 7.32285800e+00\n",
      " 1.43262030e+01 8.39050500e+00 1.41318580e+01 1.76962930e+01\n",
      " 3.33901410e+01 4.36903800e+00 1.02388070e+01 1.62847410e+01\n",
      " 1.31868310e+03 4.42275500e+01 7.10960000e-01 6.46067590e+01\n",
      " 3.80061000e+00 4.13388400e+00 1.80134090e+01 4.49331200e+00\n",
      " 1.14169870e+01 1.02287440e+01 5.46812000e+00 4.96374000e-01\n",
      " 9.31962200e+00 1.37556800e+01 8.02645430e+01 6.93968800e+00\n",
      " 5.51201000e-01 4.90658500e+00 7.65118870e+01 5.23846000e+00\n",
      " 6.10839160e+01 1.45486700e+00 1.68835900e+00 8.24009960e+01\n",
      " 2.28733380e+01 1.07062900e+01 1.25729280e+01 9.94781400e+00\n",
      " 1.47204100e+00 8.50281400e+00 7.48376300e+00 6.98041200e+00\n",
      " 9.95610800e+00 3.01931000e-01 1.11039633e+03 2.23547000e+02\n",
      " 6.94535700e+01 2.74996380e+01 4.10908600e+00 6.42667900e+00\n",
      " 5.81477330e+01 2.78013200e+00 1.27467972e+02 6.05319300e+00\n",
      " 3.56101770e+01 2.33017250e+01 4.90447900e+01 2.50555900e+00\n",
      " 3.92127800e+00 2.01264900e+00 3.19394200e+00 6.03691400e+00\n",
      " 1.91676540e+01 1.33270790e+01 2.48212860e+01 1.20317950e+01\n",
      " 3.27006500e+00 1.25088200e+00 1.08700891e+02 2.87412700e+00\n",
      " 6.84736000e-01 3.37571750e+01 1.99516560e+01 4.77619800e+01\n",
      " 2.05508000e+00 2.89017900e+01 1.65706130e+01 4.11577100e+00\n",
      " 5.67535600e+00 1.28948650e+01 1.35031164e+02 4.62792600e+00\n",
      " 3.20489700e+00 1.69270617e+02 3.24217300e+00 6.66714700e+00\n",
      " 2.86747570e+01 9.10772870e+01 3.85182410e+01 1.06428360e+01\n",
      " 3.94249100e+00 7.98094000e-01 2.22760560e+01 8.86058800e+00\n",
      " 1.99579000e-01 2.76010380e+01 1.22674930e+01 1.01502650e+01\n",
      " 6.14456200e+00 4.55300900e+00 5.44750200e+00 2.00924500e+00\n",
      " 9.11877300e+00 4.39978280e+01 4.04481910e+01 2.03782390e+01\n",
      " 4.22929290e+01 1.13306600e+00 9.03108800e+00 7.55466100e+00\n",
      " 1.93147470e+01 2.31742940e+01 3.81396400e+01 6.50681490e+01\n",
      " 5.70157900e+00 1.05660800e+00 1.02761580e+01 7.11586470e+01\n",
      " 2.91703980e+01 6.07762380e+01 3.01139947e+02 3.44749600e+00\n",
      " 2.60846620e+01 8.52623560e+01 4.01833200e+00 2.22117430e+01\n",
      " 1.17460350e+01 1.23111430e+01]\n"
     ]
    }
   ],
   "source": [
    "import numpy as np\n",
    "pop=np.array(gapminder_2007['pop'])\n",
    "pop=pop.astype(int)\n",
    "pop_small=pop/1000000\n",
    "print(pop_small)\n"
   ]
  },
  {
   "cell_type": "code",
   "execution_count": 38,
   "metadata": {},
   "outputs": [
    {
     "name": "stdout",
     "output_type": "stream",
     "text": [
      "{'Asia': 'red', 'Europe': 'green', 'Africa': 'blue', 'Americas': 'yellow', 'Oceania': 'black'}\n",
      "dict_keys(['Asia', 'Europe', 'Africa', 'Americas', 'Oceania'])\n",
      "['red', 'green', 'blue', 'blue', 'yellow', 'black', 'green', 'red', 'red', 'green', 'blue', 'yellow', 'green', 'blue', 'yellow', 'green', 'blue', 'blue', 'red', 'blue', 'yellow', 'blue', 'blue', 'yellow', 'red', 'yellow', 'blue', 'blue', 'blue', 'yellow', 'blue', 'green', 'yellow', 'green', 'green', 'blue', 'yellow', 'yellow', 'blue', 'yellow', 'blue', 'blue', 'blue', 'green', 'green', 'blue', 'blue', 'green', 'blue', 'green', 'yellow', 'blue', 'blue', 'yellow', 'yellow', 'red', 'green', 'green', 'red', 'red', 'red', 'red', 'green', 'red', 'green', 'yellow', 'red', 'red', 'blue', 'red', 'red', 'red', 'red', 'blue', 'blue', 'blue', 'blue', 'blue', 'red', 'blue', 'blue', 'blue', 'yellow', 'red', 'green', 'blue', 'blue', 'red', 'blue', 'red', 'green', 'black', 'yellow', 'blue', 'blue', 'green', 'red', 'red', 'yellow', 'yellow', 'yellow', 'red', 'green', 'green', 'yellow', 'blue', 'green', 'blue', 'blue', 'red', 'blue', 'green', 'blue', 'red', 'green', 'green', 'blue', 'blue', 'green', 'red', 'blue', 'blue', 'green', 'green', 'red', 'red', 'blue', 'red', 'blue', 'yellow', 'blue', 'green', 'blue', 'green', 'yellow', 'yellow', 'yellow', 'red', 'red', 'red', 'blue', 'blue']\n"
     ]
    }
   ],
   "source": [
    "# Dictionary for continents colors:\n",
    "col_dict={}\n",
    "col_dict['Asia']='red'\n",
    "col_dict['Europe']='green'\n",
    "col_dict['Africa']='blue'\n",
    "col_dict['Americas']='yellow'\n",
    "col_dict['Oceania']='black'\n",
    "cont_colors=col_dict.values()\n",
    "cont_names=np.array(gapminder_2007['continent'])\n",
    "cont_color=[]\n",
    "for c in cont_names:\n",
    "    if c in col_dict.keys():\n",
    "        cont_color.append(col_dict[c])\n",
    "\n",
    "print(col_dict)\n",
    "print(col_dict.keys())\n",
    "print(cont_color)\n",
    "\n",
    "        \n",
    "\n",
    "\n"
   ]
  },
  {
   "cell_type": "code",
   "execution_count": 63,
   "metadata": {},
   "outputs": [
    {
     "data": {
      "image/png": "[encoded data removed]",
      "text/plain": [
       "<Figure size 432x288 with 1 Axes>"
      ]
     },
     "metadata": {},
     "output_type": "display_data"
    }
   ],
   "source": [
    "# Double np_pop\n",
    "#pop=pop*2\n",
    "# Update: set s argument to np_pop\n",
    "gapminder_2007.plot.scatter(x='gdpPercap', y='lifeExp',s=pop_small, alpha=0.8,title='Life expectancy and GDP',c=cont_color)\n",
    "\n",
    "plt.xscale('log') \n",
    "\n",
    "tick_val = [1000, 10000, 100000]\n",
    "tick_lab = ['1k', '10k', '100k']\n",
    "plt.xticks(tick_val,tick_lab)\n",
    "plt.text(1550, 71, 'India')\n",
    "plt.text(5700, 80, 'China')\n",
    "plt.text(9600, 78, 'Brazil')\n",
    "plt.text(42951, 78, 'USA')\n",
    "plt.text(36319, 81, 'Canada')\n",
    "plt.grid(True)\n",
    "plt.show()\n",
    "\n"
   ]
  },
  {
   "cell_type": "code",
   "execution_count": 62,
   "metadata": {},
   "outputs": [
    {
     "name": "stdout",
     "output_type": "stream",
     "text": [
      "    country  year          pop continent  lifeExp    gdpPercap\n",
      "179  Brazil  2007  190010647.0  Americas    72.39  9065.800825\n",
      "    country  year           pop continent  lifeExp    gdpPercap\n",
      "299   China  2007  1.318683e+09      Asia   72.961  4959.114854\n",
      "    country  year         pop continent  lifeExp    gdpPercap\n",
      "251  Canada  2007  33390141.0  Americas   80.653  36319.23501\n"
     ]
    }
   ],
   "source": [
    "print(gapminder_2007[gapminder_2007['country']=='Brazil'])\n",
    "print(gapminder_2007[gapminder_2007['country']=='China'])\n",
    "print(gapminder_2007[gapminder_2007['country']=='Canada'])"
   ]
  },
  {
   "cell_type": "code",
   "execution_count": null,
   "metadata": {},
   "outputs": [],
   "source": []
  }
 ],
 "metadata": {
  "kernelspec": {
   "display_name": "Python 3",
   "language": "python",
   "name": "python3"
  },
  "language_info": {
   "codemirror_mode": {
    "name": "ipython",
    "version": 3
   },
   "file_extension": ".py",
   "mimetype": "text/x-python",
   "name": "python",
   "nbconvert_exporter": "python",
   "pygments_lexer": "ipython3",
   "version": "3.7.1"
  }
 },
 "nbformat": 4,
 "nbformat_minor": 2
}
